{
 "cells": [
  {
   "cell_type": "code",
   "execution_count": 1,
   "metadata": {},
   "outputs": [
    {
     "name": "stdout",
     "output_type": "stream",
     "text": [
      "Collecting jieba\n",
      "  Using cached https://files.pythonhosted.org/packages/71/46/c6f9179f73b818d5827202ad1c4a94e371a29473b7f043b736b4dab6b8cd/jieba-0.39.zip\n",
      "Installing collected packages: jieba\n",
      "  Running setup.py install for jieba ... \u001b[?25ldone\n",
      "\u001b[?25hSuccessfully installed jieba-0.39\n"
     ]
    }
   ],
   "source": [
    "!pip install jieba"
   ]
  },
  {
   "cell_type": "code",
   "execution_count": 2,
   "metadata": {},
   "outputs": [],
   "source": [
    "import jieba"
   ]
  },
  {
   "cell_type": "code",
   "execution_count": 3,
   "metadata": {},
   "outputs": [],
   "source": [
    "s = '大家好，我叫小賀，今天來國立中央大學上課，覺得非常開心。'\n",
    "\n",
    "s_list1 = jieba.cut(s, cut_all=True)\n",
    "s_list2 = jieba.cut(s, cut_all=False)\n",
    "s_list3 = jieba.cut(s)\n",
    "s_list4 = jieba.cut_for_search(s)"
   ]
  },
  {
   "cell_type": "code",
   "execution_count": 5,
   "metadata": {},
   "outputs": [
    {
     "name": "stderr",
     "output_type": "stream",
     "text": [
      "Building prefix dict from the default dictionary ...\n",
      "Dumping model to file cache /var/folders/mv/f_rwkh453m35xyxc6ms0wkt40000gn/T/jieba.cache\n",
      "Loading model cost 1.073 seconds.\n",
      "Prefix dict has been built succesfully.\n"
     ]
    },
    {
     "data": {
      "text/plain": [
       "'大家|好|||我|叫|小|賀|||今天|來|國|立|中央|大|學|上|課|||覺|得|非常|開|心||'"
      ]
     },
     "execution_count": 5,
     "metadata": {},
     "output_type": "execute_result"
    }
   ],
   "source": [
    "'|'.join(s_list1)"
   ]
  },
  {
   "cell_type": "code",
   "execution_count": 6,
   "metadata": {},
   "outputs": [
    {
     "data": {
      "text/plain": [
       "'大家|好|，|我|叫|小賀|，|今天|來國立|中央|大學|上|課|，|覺得|非常|開心|。'"
      ]
     },
     "execution_count": 6,
     "metadata": {},
     "output_type": "execute_result"
    }
   ],
   "source": [
    "'|'.join(s_list2)"
   ]
  },
  {
   "cell_type": "code",
   "execution_count": 7,
   "metadata": {},
   "outputs": [
    {
     "data": {
      "text/plain": [
       "'大家|好|，|我|叫|小賀|，|今天|來國立|中央|大學|上|課|，|覺得|非常|開心|。'"
      ]
     },
     "execution_count": 7,
     "metadata": {},
     "output_type": "execute_result"
    }
   ],
   "source": [
    "'|'.join(s_list3)"
   ]
  },
  {
   "cell_type": "code",
   "execution_count": 8,
   "metadata": {},
   "outputs": [
    {
     "data": {
      "text/plain": [
       "'大家|好|，|我|叫|小賀|，|今天|來國立|中央|大學|上|課|，|覺得|非常|開心|。'"
      ]
     },
     "execution_count": 8,
     "metadata": {},
     "output_type": "execute_result"
    }
   ],
   "source": [
    "'|'.join(s_list4)"
   ]
  },
  {
   "cell_type": "code",
   "execution_count": 10,
   "metadata": {},
   "outputs": [],
   "source": [
    "jieba.load_userdict('./mydict.txt')"
   ]
  },
  {
   "cell_type": "code",
   "execution_count": 15,
   "metadata": {},
   "outputs": [],
   "source": [
    "s = '大家好，我叫小賀，今天來國立中央大學上課，覺得非常開心。'\n",
    "\n",
    "s_list1 = jieba.cut(s, cut_all=True)\n",
    "s_list2 = jieba.cut(s, cut_all=False)\n",
    "s_list3 = jieba.cut(s)\n",
    "s_list4 = jieba.cut_for_search(s)"
   ]
  },
  {
   "cell_type": "code",
   "execution_count": 12,
   "metadata": {},
   "outputs": [
    {
     "data": {
      "text/plain": [
       "'大家|好|||我|叫|小|賀|||今天|來|國立中央大學|中央|中央大學|上|課|||覺|得|非常|開|心||'"
      ]
     },
     "execution_count": 12,
     "metadata": {},
     "output_type": "execute_result"
    }
   ],
   "source": [
    "'|'.join(s_list1)"
   ]
  },
  {
   "cell_type": "code",
   "execution_count": 16,
   "metadata": {},
   "outputs": [
    {
     "data": {
      "text/plain": [
       "'大家|好|，|我|叫|小賀|，|今天|來|國立中央大學|上課|，|覺得|非常|開心|。'"
      ]
     },
     "execution_count": 16,
     "metadata": {},
     "output_type": "execute_result"
    }
   ],
   "source": [
    "'|'.join(s_list2)"
   ]
  },
  {
   "cell_type": "code",
   "execution_count": 17,
   "metadata": {},
   "outputs": [
    {
     "data": {
      "text/plain": [
       "'大家|好|，|我|叫|小賀|，|今天|來|國立中央大學|上課|，|覺得|非常|開心|。'"
      ]
     },
     "execution_count": 17,
     "metadata": {},
     "output_type": "execute_result"
    }
   ],
   "source": [
    "'|'.join(s_list3)"
   ]
  },
  {
   "cell_type": "code",
   "execution_count": 18,
   "metadata": {},
   "outputs": [
    {
     "data": {
      "text/plain": [
       "'大家|好|，|我|叫|小賀|，|今天|來|中央|國立中央大學|上課|，|覺得|非常|開心|。'"
      ]
     },
     "execution_count": 18,
     "metadata": {},
     "output_type": "execute_result"
    }
   ],
   "source": [
    "'|'.join(s_list4)"
   ]
  },
  {
   "cell_type": "code",
   "execution_count": 20,
   "metadata": {},
   "outputs": [],
   "source": [
    "jieba.load_userdict('./mydict.txt')\n",
    "s = '大家好，我叫小賀，今天來國立中央大學上課，覺得非常開心。'\n",
    "\n",
    "s_list1 = jieba.cut(s, cut_all=True)\n",
    "s_list2 = jieba.cut(s, cut_all=False)\n",
    "s_list3 = jieba.cut(s)\n",
    "s_list4 = jieba.cut_for_search(s)"
   ]
  },
  {
   "cell_type": "code",
   "execution_count": 21,
   "metadata": {},
   "outputs": [
    {
     "data": {
      "text/plain": [
       "'大家|好|||我|叫|小|賀|||今天|來|國立中央大學|中央|中央大學|上|課|||覺|得|非常|開|心||'"
      ]
     },
     "execution_count": 21,
     "metadata": {},
     "output_type": "execute_result"
    }
   ],
   "source": [
    "'|'.join(s_list1)"
   ]
  },
  {
   "cell_type": "code",
   "execution_count": 22,
   "metadata": {},
   "outputs": [
    {
     "data": {
      "text/plain": [
       "'大家|好|，|我|叫|小賀|，|今天|來|國立中央大學|上課|，|覺得|非常|開心|。'"
      ]
     },
     "execution_count": 22,
     "metadata": {},
     "output_type": "execute_result"
    }
   ],
   "source": [
    "'|'.join(s_list2)"
   ]
  },
  {
   "cell_type": "code",
   "execution_count": 23,
   "metadata": {},
   "outputs": [
    {
     "data": {
      "text/plain": [
       "'大家|好|，|我|叫|小賀|，|今天|來|中央|國立中央大學|上課|，|覺得|非常|開心|。'"
      ]
     },
     "execution_count": 23,
     "metadata": {},
     "output_type": "execute_result"
    }
   ],
   "source": [
    "'|'.join(s_list4)"
   ]
  }
 ],
 "metadata": {
  "kernelspec": {
   "display_name": "Python 3",
   "language": "python",
   "name": "python3"
  },
  "language_info": {
   "codemirror_mode": {
    "name": "ipython",
    "version": 3
   },
   "file_extension": ".py",
   "mimetype": "text/x-python",
   "name": "python",
   "nbconvert_exporter": "python",
   "pygments_lexer": "ipython3",
   "version": "3.7.0"
  }
 },
 "nbformat": 4,
 "nbformat_minor": 2
}
